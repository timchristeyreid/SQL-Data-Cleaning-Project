{
 "cells": [
  {
   "cell_type": "markdown",
   "id": "a98f693f",
   "metadata": {},
   "source": [
    "# SQL Cheat Sheet"
   ]
  },
  {
   "cell_type": "markdown",
   "id": "be68f81f",
   "metadata": {},
   "source": [
    "### SUBSTRING"
   ]
  },
  {
   "cell_type": "code",
   "execution_count": null,
   "id": "91795c08",
   "metadata": {},
   "outputs": [],
   "source": [
    "SUBSTRING(\n",
    " <Column>,\n",
    " <Starting position>,\n",
    " <End position>\n",
    ")"
   ]
  },
  {
   "cell_type": "markdown",
   "id": "c6c120ab",
   "metadata": {},
   "source": [
    "### CHARINDEX\n",
    "CHARINDEX can be used to find the position of a character. It returns a number representing the position of the character in the string."
   ]
  },
  {
   "cell_type": "code",
   "execution_count": null,
   "id": "b85ae741",
   "metadata": {},
   "outputs": [],
   "source": [
    "CHARINDEX(\n",
    " '<character to look for>',\n",
    " <where to look>\n",
    ")"
   ]
  },
  {
   "cell_type": "markdown",
   "id": "d2811a19",
   "metadata": {},
   "source": [
    "### Adding Columns"
   ]
  },
  {
   "cell_type": "code",
   "execution_count": null,
   "id": "b1a52f91",
   "metadata": {},
   "outputs": [],
   "source": [
    "ALTER TABLE <Table name>\n",
    "ADD <New Variable Name> <Data type>"
   ]
  },
  {
   "cell_type": "markdown",
   "id": "29f26162",
   "metadata": {},
   "source": [
    "### Setting Column Values"
   ]
  },
  {
   "cell_type": "code",
   "execution_count": null,
   "id": "7e8452bb",
   "metadata": {},
   "outputs": [],
   "source": [
    "UPDATE <Table name>\n",
    "SET <New Variable Name> = <new variable>"
   ]
  },
  {
   "cell_type": "markdown",
   "id": "3ed2884d",
   "metadata": {},
   "source": [
    "### PARSENAME\n",
    "It returns the specified part of the specified object name - Pieces are separated by '.'"
   ]
  },
  {
   "cell_type": "code",
   "execution_count": null,
   "id": "394dd90a",
   "metadata": {},
   "outputs": [],
   "source": [
    "PARSENAME (\n",
    "    <object name>,\n",
    "    <object piece>\n",
    ")"
   ]
  },
  {
   "cell_type": "markdown",
   "id": "48af6a2b",
   "metadata": {},
   "source": [
    "### REPLACE"
   ]
  },
  {
   "cell_type": "code",
   "execution_count": null,
   "id": "4a18a5ff",
   "metadata": {},
   "outputs": [],
   "source": [
    "Replace(\n",
    "    <object name>,\n",
    "    'character to replace', \n",
    "    'character that replaces'\n",
    ")"
   ]
  },
  {
   "cell_type": "markdown",
   "id": "d5182393",
   "metadata": {},
   "source": [
    "### Deleting Columns"
   ]
  },
  {
   "cell_type": "code",
   "execution_count": null,
   "id": "a7610c37",
   "metadata": {},
   "outputs": [],
   "source": [
    "ALTER TABLE <Table Name> DROP COLUMN <Column Name>, <Column Name>, etc.."
   ]
  },
  {
   "cell_type": "markdown",
   "id": "e6799e47",
   "metadata": {},
   "source": [
    "### CAST\n",
    "This is used to treat a variable type as an alternative type."
   ]
  },
  {
   "cell_type": "code",
   "execution_count": null,
   "id": "d937ae7f",
   "metadata": {},
   "outputs": [],
   "source": [
    "CAST(\n",
    "    <variable> AS <datatype(length)> \n",
    ")"
   ]
  },
  {
   "cell_type": "markdown",
   "id": "49358b5b",
   "metadata": {},
   "source": [
    "__To update the variable permanently__:\n",
    "_only do this when you are the owner of the table or have permission_"
   ]
  },
  {
   "cell_type": "code",
   "execution_count": null,
   "id": "ef1124cc",
   "metadata": {},
   "outputs": [],
   "source": [
    "ALTER TABLE <YourTableHere>\n",
    "ALTER COLUMN <YourTextColumnHere> <datatype(length)>"
   ]
  }
 ],
 "metadata": {
  "kernelspec": {
   "display_name": "Python 3 (ipykernel)",
   "language": "python",
   "name": "python3"
  },
  "language_info": {
   "codemirror_mode": {
    "name": "ipython",
    "version": 3
   },
   "file_extension": ".py",
   "mimetype": "text/x-python",
   "name": "python",
   "nbconvert_exporter": "python",
   "pygments_lexer": "ipython3",
   "version": "3.10.9"
  }
 },
 "nbformat": 4,
 "nbformat_minor": 5
}
