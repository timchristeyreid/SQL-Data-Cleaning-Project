{
 "cells": [
  {
   "cell_type": "markdown",
   "id": "3aec0d65",
   "metadata": {},
   "source": [
    "# SQL - Nashville Housing Project\n",
    "\n",
    "This project focuses on data cleaning. \n",
    "1. Standardised Date Format\n",
    "2. Populate property address data\n",
    "3. Breaking out addresses into individual columns (Address, City, State)\n",
    "4. Change Y and N to Yes and No in 'Sold as Vacant' field\n",
    "5. Remove Duplicates"
   ]
  },
  {
   "cell_type": "markdown",
   "id": "35ffb2a7",
   "metadata": {},
   "source": [
    "### Stage 1 - Uploading to Azure\n",
    "\n",
    "This is different using the docker - to do this I have installed the following extension: SQL Server Import\n",
    "\n",
    "1. Right click the database and import wizard - select the server. \n",
    "2. Select the CSV file to import - make sure the location is set to the correct database from the default of master.\n",
    "3. Look at the variable types and allow null values. If these are not correct then the table will not be imported. It will tell you which rows and why so you can alter to float, text, varchar etc.\n",
    "\n",
    "In this case, the saledate is set as Date and the sale price has been set to text (it contains $ symbols). "
   ]
  },
  {
   "cell_type": "markdown",
   "id": "c5f42633",
   "metadata": {},
   "source": [
    "### Stage 2 - Standardise the Date Format\n",
    "\n",
    "Using convert to get the date into a simple date rather than date/time. An interesting thing to note here for the workplace, is that for tables you have not created it is better to cast as a date and leave the original data how it was... You don't want to update the data at the source without permission."
   ]
  },
  {
   "cell_type": "code",
   "execution_count": null,
   "id": "f7fdb7f1",
   "metadata": {},
   "outputs": [],
   "source": [
    "Select SaleDate, CONVERT(Date,Saledate)\n",
    "From Nashville_Housing_Project.dbo.NashvilleHousing\n",
    "\n",
    "Update NashvilleHousing \n",
    "SET SaleDate = CONVERT(Date, Saledate)"
   ]
  },
  {
   "cell_type": "markdown",
   "id": "68507a92",
   "metadata": {},
   "source": [
    "### Stage 3 - Populate Property Address Data\n",
    "\n",
    "Some of the property addresses are left blank i.e. are Null values. Interestingly, the parcel ID is unique to the address so if there is another entry with that parcel ID that does have a property address we can fill any blanks."
   ]
  },
  {
   "cell_type": "code",
   "execution_count": null,
   "id": "036a06b0",
   "metadata": {},
   "outputs": [],
   "source": [
    "-- Populate Property Address Data\n",
    "Select *\n",
    "From Nashville_Housing_Project.dbo.NashvilleHousing\n",
    "Where PropertyAddress is Null -- you can see the properties that have no property address input\n",
    "\n",
    "---- you can also see from the data that there is a unique parcel ID for each property address \n",
    "---- so if there is a property address associated to the parcel ID you can fill in any property \n",
    "---- address blanks for subsequent parcel IDs. \n",
    "\n",
    "Select a.ParcelID, a.PropertyAddress, b.ParcelID, b.PropertyAddress, ISNULL(a.PropertyAddress, b.PropertyAddress) \n",
    "--use the ISNULL to say if the value is null then replace a.propertyaddress with b.property address\n",
    "From Nashville_Housing_Project.dbo.NashvilleHousing as a --joining the table to itself using the parcel ID\n",
    "JOIN Nashville_Housing_Project.dbo.NashvilleHousing as b\n",
    "    ON a.ParcelID = b.ParcelID\n",
    "    and a.[uniqueID] <> b.[UniqueID] -- this says where the unique IDs are NOT equal\n",
    "Where a.PropertyAddress is NULL -- this only cares about the ones where the values in a are null\n",
    "\n",
    "----To update the table we use update and then set to change to the new values.\n",
    "update a --using the table alias\n",
    "SET PropertyAddress = ISNULL(a.PropertyAddress, b.PropertyAddress)\n",
    "From Nashville_Housing_Project.dbo.NashvilleHousing as a --joining the table to itself using the parcel ID\n",
    "JOIN Nashville_Housing_Project.dbo.NashvilleHousing as b\n",
    "    ON a.ParcelID = b.ParcelID\n",
    "    and a.[uniqueID] <> b.[UniqueID]\n",
    "Where a.PropertyAddress is NULL"
   ]
  },
  {
   "cell_type": "markdown",
   "id": "b31b8dac",
   "metadata": {},
   "source": [
    "### Stage 4 - Breaking out Address into Individual Columns\n",
    "(Address, City, State)\n",
    "\n",
    "The property address column has comma separated values.\n",
    "\n",
    "__Using substring:__"
   ]
  },
  {
   "cell_type": "code",
   "execution_count": null,
   "id": "6bf09336",
   "metadata": {},
   "outputs": [],
   "source": [
    "SUBSTRING(\n",
    " <Column>,\n",
    " <Starting position>,\n",
    " <End position>\n",
    ")\n",
    "\n",
    "-- Character Index\n",
    "--CHARINDEX can be used to find the position of a character\n",
    "--Useful in this case to find the comma position to enter as <End position>\n",
    "--It returns a number representing position of the character in the string\n",
    "\n",
    "CHARINDEX(\n",
    " '<character to look for>',\n",
    " <where to look>\n",
    ")"
   ]
  },
  {
   "cell_type": "code",
   "execution_count": null,
   "id": "d0816731",
   "metadata": {},
   "outputs": [],
   "source": [
    "Select \n",
    "SUBSTRING(PropertyAddress, 1, CHARINDEX(',', PropertyAddress)-1) as address -- the substring here asks for the column, the start and then the end position. \n",
    "-- The end position is set using CHARINDEX to locate the comma \n",
    "-- so the new substring is from position 1 until this comma i.e. removing anything after. \n",
    "-- The -1 then selects everything before the comma and if not included then the new substring will have a comma attached to it.\n",
    "FROM NashvilleHousing"
   ]
  },
  {
   "cell_type": "markdown",
   "id": "c05327ae",
   "metadata": {},
   "source": [
    "__Adding new columns and updating the values in the table__"
   ]
  },
  {
   "cell_type": "code",
   "execution_count": null,
   "id": "2496b547",
   "metadata": {},
   "outputs": [],
   "source": [
    "--Altering table to add in new columns\n",
    "ALTER TABLE <Table name>\n",
    "ADD <New Variable Name> <Data type> --Adds new column\n",
    "\n",
    "--Setting the new column values\n",
    "UPDATE <Table name>\n",
    "SET <New Variable Name> = <new variable>"
   ]
  },
  {
   "cell_type": "code",
   "execution_count": null,
   "id": "d568a865",
   "metadata": {},
   "outputs": [],
   "source": [
    "--create 2 new columns to add values in\n",
    "\n",
    "---- Add column for Split Address and Split City\n",
    "ALTER TABLE NashvilleHousing \n",
    "ADD PropertySplitAddress NVARCHAR(255) -- adding New column to the end of the table\n",
    "\n",
    "ALTER TABLE NashvilleHousing\n",
    "ADD PropertySplitCity NVARCHAR(255)\n",
    "\n",
    "----Set the values for the new columns\n",
    "Update NashvilleHousing\n",
    "SET PropertySplitAddress = SUBSTRING(PropertyAddress, 1, CHARINDEX(',', PropertyAddress)-1) \n",
    "\n",
    "UPDATE NashvilleHousing\n",
    "SET PropertySplitCity = SUBSTRING(PropertyAddress, CHARINDEX(',', PropertyAddress)+1, len(propertyaddress))"
   ]
  },
  {
   "cell_type": "markdown",
   "id": "9ecb635d",
   "metadata": {},
   "source": [
    "__Using PARSENAME to update Owner Address Column__\n",
    "In this case there are three separated sections. The Street, Town and State. \n",
    "\n",
    "Interestingly, the PARSENAME runs backwards so the last piece is 1 (opposite to SUBSTRING)."
   ]
  },
  {
   "cell_type": "code",
   "execution_count": null,
   "id": "801554a1",
   "metadata": {},
   "outputs": [],
   "source": [
    "--It returns the specified part of the specified object name\n",
    "PARSENAME (\n",
    "    <object name>,\n",
    "    <object piece>\n",
    ")"
   ]
  },
  {
   "cell_type": "markdown",
   "id": "127a9675",
   "metadata": {},
   "source": [
    "PARSENAME looks for '.' and so the commas in the address can be replaced with '.' to allow it to work. To replace commas with full stops REPLACE is used:"
   ]
  },
  {
   "cell_type": "code",
   "execution_count": null,
   "id": "a2f45f91",
   "metadata": {},
   "outputs": [],
   "source": [
    "--If the commas were already full stops it would simply be\n",
    "parsename (OwnerAddress, 3)\n",
    "\n",
    "--However, they have to be replaced so it becomes\n",
    "Select\n",
    "parsename (Replace(OwnerAddress,',', '.') ,3),\n",
    "parsename (Replace(OwnerAddress,',', '.') ,2),\n",
    "parsename (Replace(OwnerAddress,',', '.') ,1)\n",
    "From Nashville_Housing_Project.dbo.NashvilleHousing"
   ]
  },
  {
   "cell_type": "markdown",
   "id": "56bce2d1",
   "metadata": {},
   "source": [
    "___Note: To delete columns (as I had to do after making spelling mistakes):___"
   ]
  },
  {
   "cell_type": "code",
   "execution_count": null,
   "id": "94f43dc5",
   "metadata": {},
   "outputs": [],
   "source": [
    "-- Removing columns to rename without spelling error\n",
    "ALTER TABLE <Table Name> DROP COLUMN <Column Name>, <Column Name>, etc.."
   ]
  },
  {
   "cell_type": "markdown",
   "id": "e35d7742",
   "metadata": {},
   "source": [
    "Adding the new columns for split owner address:"
   ]
  },
  {
   "cell_type": "code",
   "execution_count": null,
   "id": "0e9cdd87",
   "metadata": {},
   "outputs": [],
   "source": [
    "----Adding new columns and values\n",
    "ALTER TABLE NashvilleHousing \n",
    "ADD \n",
    "OwnerSplitAddress NVARCHAR(255), \n",
    "OwnerSplitCity NVARCHAR(255),\n",
    "OwnerSplitState NVARCHAR(255)\n",
    "\n",
    "UPDATE NashvilleHousing\n",
    "SET \n",
    "OwnerSplitAddress = parsename (Replace(OwnerAddress,',', '.') ,3),\n",
    "OwnerSplitCity = parsename (Replace(OwnerAddress,',', '.') ,2),\n",
    "OwnerSplitState = parsename (Replace(OwnerAddress,',', '.') ,1)"
   ]
  },
  {
   "cell_type": "markdown",
   "id": "f0c1fd17",
   "metadata": {},
   "source": [
    "### Stage 5 - Altering Y and N to Yes and No"
   ]
  },
  {
   "cell_type": "markdown",
   "id": "b24a7003",
   "metadata": {},
   "source": [
    "__Using Cast__: This is used to treat a variable type as an alternative type.\n",
    "\n",
    "In this instance, my SoldAsVacant column is set to text and so when trying to use DISTINCT, an error occurs. To overcome this, cast can be used:"
   ]
  },
  {
   "cell_type": "code",
   "execution_count": null,
   "id": "a3ed0f2d",
   "metadata": {},
   "outputs": [],
   "source": [
    "CAST(\n",
    "    <variable> AS <datatype(length)> \n",
    "    )\n",
    "\n",
    "--Note how datatype length is only required for varchar etc."
   ]
  },
  {
   "cell_type": "markdown",
   "id": "76817f11",
   "metadata": {},
   "source": [
    "__To update the Variable type permanently:__ \n",
    "_only do this when you are the owner of the table or have permission_"
   ]
  },
  {
   "cell_type": "code",
   "execution_count": null,
   "id": "14e4e258",
   "metadata": {},
   "outputs": [],
   "source": [
    "ALTER TABLE <YourTableHere>\n",
    "ALTER COLUMN <YourTextColumnHere> VARCHAR(MAX)"
   ]
  },
  {
   "cell_type": "markdown",
   "id": "de6ebdfe",
   "metadata": {},
   "source": [
    "__Using CASE to change N to No and Y to Yes__:"
   ]
  },
  {
   "cell_type": "code",
   "execution_count": null,
   "id": "6829fb71",
   "metadata": {},
   "outputs": [],
   "source": [
    "Select SoldAsVacant\n",
    ", CASE when SoldAsVacant = 'Y' Then 'Yes'\n",
    "       when SoldAsVacant = 'N' Then 'No'\n",
    "       Else SoldAsVacant\n",
    "       END\n",
    "from Nashville_Housing_Project.dbo.NashvilleHousing\n",
    "\n",
    "Update NashvilleHousing\n",
    "Set SoldAsVacant = CASE when SoldAsVacant = 'Y' Then 'Yes'\n",
    "       when SoldAsVacant = 'N' Then 'No'\n",
    "       Else SoldAsVacant\n",
    "       END\n",
    "    from Nashville_Housing_Project.dbo.NashvilleHousing\n",
    "\n",
    "Select distinct(SoldAsVacant), count(SoldAsVacant)\n",
    "From NashvilleHousing\n",
    "Group By SoldAsVacant\n",
    "order by 2"
   ]
  },
  {
   "cell_type": "markdown",
   "id": "c6d7c007",
   "metadata": {},
   "source": [
    "### Stage 6 - Deleting Duplicates\n",
    "\n",
    "In this instance, we are pretending that if the ParcelID, Property Address, Sale Date, Sale Price and Legal Reference are the same then we can treat it as a duplicate. \n",
    "\n",
    "_in practice these may be slightly different sales or properties but for this case study these are the parameters used to qualify as a duplicate_ "
   ]
  },
  {
   "cell_type": "markdown",
   "id": "db537208",
   "metadata": {},
   "source": [
    "Using a CTE to delete duplicate entries - the CTE is set up and then the delete calls everything from that CTE where the row_num is greater than 1 i.e. every duplicate entry...\n",
    "\n",
    "_I have removed the legal reference as I could not change the variable type and the operation won't work with text type_"
   ]
  },
  {
   "cell_type": "code",
   "execution_count": null,
   "id": "68536645",
   "metadata": {},
   "outputs": [],
   "source": [
    "WITH RowNumCTE AS (\n",
    "Select *,\n",
    "    ROW_NUMBER() OVER (\n",
    "        PARTITION BY ParcelID,\n",
    "                     PropertyAddress,\n",
    "                     SalePrice,\n",
    "                     SaleDate\n",
    "                     ORDER BY \n",
    "                        UniqueID\n",
    "                        ) as row_num\n",
    "    From Nashville_Housing_Project.dbo.NashvilleHousing\n",
    ")\n",
    "\n",
    "DELETE \n",
    "From RowNumCTE\n",
    "Where row_num >1 "
   ]
  }
 ],
 "metadata": {
  "kernelspec": {
   "display_name": "Python 3 (ipykernel)",
   "language": "python",
   "name": "python3"
  },
  "language_info": {
   "codemirror_mode": {
    "name": "ipython",
    "version": 3
   },
   "file_extension": ".py",
   "mimetype": "text/x-python",
   "name": "python",
   "nbconvert_exporter": "python",
   "pygments_lexer": "ipython3",
   "version": "3.10.9"
  }
 },
 "nbformat": 4,
 "nbformat_minor": 5
}
